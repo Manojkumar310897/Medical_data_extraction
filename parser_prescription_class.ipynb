{
 "cells": [
  {
   "cell_type": "code",
   "execution_count": 27,
   "id": "b69ec451",
   "metadata": {},
   "outputs": [],
   "source": [
    "import abc\n",
    "\n",
    "\n",
    "class MedicalDocParser(metaclass=abc.ABCMeta):\n",
    "    def __init__(self,text):\n",
    "        self.text=text\n",
    "     \n",
    "    \n",
    "    @abc.abstractmethod\n",
    "    def parse(self):\n",
    "        parse"
   ]
  },
  {
   "cell_type": "code",
   "execution_count": 28,
   "id": "f0b491f1",
   "metadata": {},
   "outputs": [
    {
     "name": "stdout",
     "output_type": "stream",
     "text": [
      "{'patient_name': 'Marta Sharapova', 'patient_address': '9 tennis court, new Russia, DC', 'medicines': 'Prednisone 20 mg\\nLialda 2.4 gram', 'directions': 'Prednisone, Taper 5 mg every 3 days,\\nFinish in 2.5 weeks -\\nLialda - take 2 pill everyday for 1 month', 'refills': '3'}\n"
     ]
    }
   ],
   "source": [
    "class PrescriptionParser(MedicalDocParser):\n",
    "    def __init__(self, text):\n",
    "        MedicalDocParser.__init__(self, text)\n",
    "\n",
    "    def parse(self):\n",
    "        return {\n",
    "            'patient_name': self.get_field('patient_name'),\n",
    "            'patient_address': self.get_field('patient_address'),\n",
    "            'medicines': self.get_field('medicines'),\n",
    "            'directions': self.get_field('directions'),\n",
    "            'refills': self.get_field('refills')\n",
    "        }\n",
    "\n",
    "    def get_field(self, field_name):\n",
    "        pattern_dict = {\n",
    "            'patient_name': {'pattern': 'Name:(.*)Date', 'flags': 0},\n",
    "            'patient_address': {'pattern': 'Address:(.*)\\n', 'flags': 0},\n",
    "            'medicines': {'pattern': 'Address[^\\n]*(.*)Directions', 'flags': re.DOTALL},\n",
    "            'directions': {'pattern': 'Directions:(.*)Refill', 'flags': re.DOTALL},\n",
    "            'refills': {'pattern': 'Refill:(.*)times', 'flags': 0},\n",
    "        }\n",
    "\n",
    "        pattern_object = pattern_dict.get(field_name)\n",
    "        if pattern_object:\n",
    "            matches = re.findall(pattern_object['pattern'], self.text, flags=pattern_object['flags'])\n",
    "            if len(matches) > 0:\n",
    "                return matches[0].strip()\n",
    "\n",
    "if __name__ == '__main__':\n",
    "    document_text = '''\n",
    "Dr John Smith, M.D\n",
    "2 Non-Important Street,\n",
    "New York, Phone (000)-111-2222\n",
    "Name: Marta Sharapova Date: 5/11/2022\n",
    "Address: 9 tennis court, new Russia, DC\n",
    "\n",
    "Prednisone 20 mg\n",
    "Lialda 2.4 gram\n",
    "Directions:\n",
    "Prednisone, Taper 5 mg every 3 days,\n",
    "Finish in 2.5 weeks -\n",
    "Lialda - take 2 pill everyday for 1 month\n",
    "Refill: 3 times\n",
    "'''\n",
    "    pp = PrescriptionParser(document_text)\n",
    "    print(pp.parse())"
   ]
  }
 ],
 "metadata": {
  "kernelspec": {
   "display_name": "Python 3 (ipykernel)",
   "language": "python",
   "name": "python3"
  },
  "language_info": {
   "codemirror_mode": {
    "name": "ipython",
    "version": 3
   },
   "file_extension": ".py",
   "mimetype": "text/x-python",
   "name": "python",
   "nbconvert_exporter": "python",
   "pygments_lexer": "ipython3",
   "version": "3.8.10"
  }
 },
 "nbformat": 4,
 "nbformat_minor": 5
}
