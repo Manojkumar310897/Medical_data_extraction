{
 "cells": [
  {
   "cell_type": "code",
   "execution_count": 113,
   "id": "07ba1340",
   "metadata": {},
   "outputs": [
    {
     "name": "stdout",
     "output_type": "stream",
     "text": [
      "{'patient_name': 'Marta Sharapova', 'patient_address': '9 tennis court, new Russia, DC', 'medicines': 'Prednisone 20 mg\\nLialda 2.4 gram', 'directions': 'Prednisone, Taper 5 mg every 3 days,\\nFinish in 2.5 weeks -\\nLialda - take 2 pill everyday for 1 month', 'refills': '3'}\n"
     ]
    }
   ],
   "source": [
    "import abc\n",
    "import re\n",
    "\n",
    "class MedicalDocParser(metaclass=abc.ABCMeta):\n",
    "    def __init__(self,text):\n",
    "        self.text=text\n",
    "     \n",
    "    \n",
    "    @abc.abstractmethod\n",
    "    def parse(self):\n",
    "        parse\n",
    "\n",
    "class PrescriptionParser(MedicalDocParser):\n",
    "    def __init__(self, text):\n",
    "        MedicalDocParser.__init__(self, text)\n",
    "\n",
    "    def parse(self):\n",
    "        return {\n",
    "            'patient_name': self.get_field('patient_name'),\n",
    "            'patient_address': self.get_field('patient_address'),\n",
    "            'medicines': self.get_field('medicines'),\n",
    "            'directions': self.get_field('directions'),\n",
    "            'refills': self.get_field('refills')\n",
    "        }\n",
    "\n",
    "    def get_field(self, field_name):\n",
    "        pattern_dict = {\n",
    "            'patient_name': {'pattern': 'Name:(.*)Date', 'flags': 0},\n",
    "            'patient_address': {'pattern': 'Address:(.*)\\n', 'flags': 0},\n",
    "            'medicines': {'pattern': 'Address[^\\n]*(.*)Directions', 'flags': re.DOTALL},\n",
    "            'directions': {'pattern': 'Directions:(.*)Refill', 'flags': re.DOTALL},\n",
    "            'refills': {'pattern': 'Refill:(.*)times', 'flags': 0},\n",
    "        }\n",
    "\n",
    "        pattern_object = pattern_dict.get(field_name)\n",
    "        if pattern_object:\n",
    "            matches = re.findall(pattern_object['pattern'], self.text, flags=pattern_object['flags'])\n",
    "            if len(matches) > 0:\n",
    "                return matches[0].strip()\n",
    "\n",
    "if __name__ == '__main__':\n",
    "    document_text = '''\n",
    "Dr John Smith, M.D\n",
    "2 Non-Important Street,\n",
    "New York, Phone (000)-111-2222\n",
    "Name: Marta Sharapova Date: 5/11/2022\n",
    "Address: 9 tennis court, new Russia, DC\n",
    "\n",
    "Prednisone 20 mg\n",
    "Lialda 2.4 gram\n",
    "Directions:\n",
    "Prednisone, Taper 5 mg every 3 days,\n",
    "Finish in 2.5 weeks -\n",
    "Lialda - take 2 pill everyday for 1 month\n",
    "Refill: 3 times\n",
    "'''\n",
    "    pp = PrescriptionParser(document_text)\n",
    "    print(pp.parse())"
   ]
  },
  {
   "cell_type": "code",
   "execution_count": 93,
   "id": "234880b4",
   "metadata": {},
   "outputs": [
    {
     "name": "stdout",
     "output_type": "stream",
     "text": [
      "Requirement already satisfied: ipytest in c:\\users\\ranjitha\\appdata\\local\\programs\\python\\python38\\lib\\site-packages (0.13.3)\n",
      "Requirement already satisfied: ipython in c:\\users\\ranjitha\\appdata\\local\\programs\\python\\python38\\lib\\site-packages (from ipytest) (8.12.2)\n",
      "Requirement already satisfied: packaging in c:\\users\\ranjitha\\appdata\\local\\programs\\python\\python38\\lib\\site-packages (from ipytest) (23.1)\n",
      "Requirement already satisfied: pytest>=5.4 in c:\\users\\ranjitha\\appdata\\local\\programs\\python\\python38\\lib\\site-packages (from ipytest) (6.2.2)\n",
      "Requirement already satisfied: colorama in c:\\users\\ranjitha\\appdata\\local\\programs\\python\\python38\\lib\\site-packages (from pytest>=5.4->ipytest) (0.4.6)\n",
      "Requirement already satisfied: py>=1.8.2 in c:\\users\\ranjitha\\appdata\\local\\programs\\python\\python38\\lib\\site-packages (from pytest>=5.4->ipytest) (1.11.0)\n",
      "Requirement already satisfied: toml in c:\\users\\ranjitha\\appdata\\local\\programs\\python\\python38\\lib\\site-packages (from pytest>=5.4->ipytest) (0.10.2)\n",
      "Requirement already satisfied: iniconfig in c:\\users\\ranjitha\\appdata\\local\\programs\\python\\python38\\lib\\site-packages (from pytest>=5.4->ipytest) (2.0.0)\n",
      "Requirement already satisfied: atomicwrites>=1.0 in c:\\users\\ranjitha\\appdata\\local\\programs\\python\\python38\\lib\\site-packages (from pytest>=5.4->ipytest) (1.4.1)\n",
      "Requirement already satisfied: attrs>=19.2.0 in c:\\users\\ranjitha\\appdata\\local\\programs\\python\\python38\\lib\\site-packages (from pytest>=5.4->ipytest) (23.1.0)\n",
      "Requirement already satisfied: pluggy<1.0.0a1,>=0.12 in c:\\users\\ranjitha\\appdata\\local\\programs\\python\\python38\\lib\\site-packages (from pytest>=5.4->ipytest) (0.13.1)\n",
      "Requirement already satisfied: typing-extensions in c:\\users\\ranjitha\\appdata\\local\\programs\\python\\python38\\lib\\site-packages (from ipython->ipytest) (4.6.2)\n",
      "Requirement already satisfied: pygments>=2.4.0 in c:\\users\\ranjitha\\appdata\\local\\programs\\python\\python38\\lib\\site-packages (from ipython->ipytest) (2.15.1)\n",
      "Requirement already satisfied: jedi>=0.16 in c:\\users\\ranjitha\\appdata\\local\\programs\\python\\python38\\lib\\site-packages (from ipython->ipytest) (0.18.2)\n",
      "Requirement already satisfied: prompt-toolkit!=3.0.37,<3.1.0,>=3.0.30 in c:\\users\\ranjitha\\appdata\\local\\programs\\python\\python38\\lib\\site-packages (from ipython->ipytest) (3.0.38)\n",
      "Requirement already satisfied: backcall in c:\\users\\ranjitha\\appdata\\local\\programs\\python\\python38\\lib\\site-packages (from ipython->ipytest) (0.2.0)\n",
      "Requirement already satisfied: decorator in c:\\users\\ranjitha\\appdata\\local\\programs\\python\\python38\\lib\\site-packages (from ipython->ipytest) (5.1.1)\n",
      "Requirement already satisfied: stack-data in c:\\users\\ranjitha\\appdata\\local\\programs\\python\\python38\\lib\\site-packages (from ipython->ipytest) (0.6.2)\n",
      "Requirement already satisfied: matplotlib-inline in c:\\users\\ranjitha\\appdata\\local\\programs\\python\\python38\\lib\\site-packages (from ipython->ipytest) (0.1.6)\n",
      "Requirement already satisfied: pickleshare in c:\\users\\ranjitha\\appdata\\local\\programs\\python\\python38\\lib\\site-packages (from ipython->ipytest) (0.7.5)\n",
      "Requirement already satisfied: traitlets>=5 in c:\\users\\ranjitha\\appdata\\local\\programs\\python\\python38\\lib\\site-packages (from ipython->ipytest) (5.9.0)\n",
      "Requirement already satisfied: parso<0.9.0,>=0.8.0 in c:\\users\\ranjitha\\appdata\\local\\programs\\python\\python38\\lib\\site-packages (from jedi>=0.16->ipython->ipytest) (0.8.3)\n",
      "Requirement already satisfied: wcwidth in c:\\users\\ranjitha\\appdata\\local\\programs\\python\\python38\\lib\\site-packages (from prompt-toolkit!=3.0.37,<3.1.0,>=3.0.30->ipython->ipytest) (0.2.6)\n",
      "Requirement already satisfied: asttokens>=2.1.0 in c:\\users\\ranjitha\\appdata\\local\\programs\\python\\python38\\lib\\site-packages (from stack-data->ipython->ipytest) (2.2.1)\n",
      "Requirement already satisfied: executing>=1.2.0 in c:\\users\\ranjitha\\appdata\\local\\programs\\python\\python38\\lib\\site-packages (from stack-data->ipython->ipytest) (1.2.0)\n",
      "Requirement already satisfied: pure-eval in c:\\users\\ranjitha\\appdata\\local\\programs\\python\\python38\\lib\\site-packages (from stack-data->ipython->ipytest) (0.2.2)\n",
      "Requirement already satisfied: six in c:\\users\\ranjitha\\appdata\\local\\programs\\python\\python38\\lib\\site-packages (from asttokens>=2.1.0->stack-data->ipython->ipytest) (1.16.0)\n"
     ]
    },
    {
     "name": "stderr",
     "output_type": "stream",
     "text": [
      "WARNING: You are using pip version 21.1.1; however, version 23.1.2 is available.\n",
      "You should consider upgrading via the 'c:\\users\\ranjitha\\appdata\\local\\programs\\python\\python38\\python.exe -m pip install --upgrade pip' command.\n"
     ]
    }
   ],
   "source": [
    "!pip install ipytest"
   ]
  },
  {
   "cell_type": "code",
   "execution_count": 114,
   "id": "0448b998",
   "metadata": {},
   "outputs": [],
   "source": [
    "import pytest\n",
    "\n",
    "@pytest.fixture()\n",
    "def doc_1_maria():\n",
    "    document_text = '''\n",
    "Dr John Smith, M.D\n",
    "2 Non-Important Street,\n",
    "New York, Phone (000)-111-2222\n",
    "Name: Marta Sharapova Date: 5/11/2022\n",
    "Address: 9 tennis court, new Russia, DC\n",
    "Prednisone 20 mg\n",
    "Lialda 2.4 gram\n",
    "Directions:\n",
    "Prednisone, Taper 5 mg every 3 days,\n",
    "Finish in 2.5 weeks -\n",
    "Lialda - take 2 pill everyday for 1 month\n",
    "Refill: 3 times\n",
    "'''\n",
    "    return PrescriptionParser(document_text)\n",
    "\n",
    "@pytest.fixture()\n",
    "def doc_2_virat():\n",
    "    document_text = '''\n",
    "Dr John >mith, M.D\n",
    "\n",
    "2 Non-Important street,\n",
    "New York, Phone (900)-323- ~2222\n",
    "\n",
    "Name:  Virat Kohli Date: 2/05/2022\n",
    "\n",
    "Address: 2 cricket blvd, New Delhi\n",
    "\n",
    "Omeprazole 40 mg\n",
    "\n",
    "Directions: Use two tablets daily for three months\n",
    "Refill: 3 times\n",
    "'''\n",
    "    return PrescriptionParser(document_text)\n",
    "\n",
    "@pytest.fixture()\n",
    "def doc_3_empty():\n",
    "    return PrescriptionParser('')\n",
    "\n",
    "def test_get_name(doc_1_maria, doc_2_virat, doc_3_empty):\n",
    "    assert doc_1_maria.get_field('patient_name') == 'Marta Sharapova'\n",
    "    assert doc_2_virat.get_field('patient_name') == 'Virat Kohli'\n",
    "    assert doc_3_empty.get_field('patient_name') == None\n",
    "\n",
    "def test_get_address(doc_1_maria, doc_2_virat, doc_3_empty):\n",
    "    assert doc_1_maria.get_field('patient_address') == '9 tennis court, new Russia, DC'\n",
    "    assert doc_2_virat.get_field('patient_address') == '2 cricket blvd, New Delhi'\n",
    "    assert doc_3_empty.get_field('patient_address') == None\n",
    "\n",
    "def test_get_address(doc_1_maria, doc_2_virat, doc_3_empty):\n",
    "    assert doc_1_maria.get_field('patient_address') == '9 tennis court, new Russia, DC'\n",
    "    assert doc_2_virat.get_field('patient_address') == '2 cricket blvd, New Delhi'\n",
    "    assert doc_3_empty.get_field('patient_address') == None\n",
    "\n",
    "def test_get_medicines(doc_1_maria, doc_2_virat, doc_3_empty):\n",
    "    assert doc_1_maria.get_field('medicines') == 'Prednisone 20 mg\\nLialda 2.4 gram'\n",
    "    assert doc_2_virat.get_field('medicines') == 'Omeprazole 40 mg'\n",
    "    assert doc_3_empty.get_field('medicines') is None\n",
    "\n",
    "def test_get_directions(doc_1_maria, doc_2_virat, doc_3_empty):\n",
    "    assert doc_1_maria.get_field('directions') == 'Prednisone, Taper 5 mg every 3 days,\\nFinish in 2.5 weeks -\\nLialda - take 2 pill everyday for 1 month'\n",
    "    assert doc_2_virat.get_field('directions') == 'Use two tablets daily for three months'\n",
    "    assert doc_3_empty.get_field('directions') is None\n",
    "\n",
    "def test_parse(doc_1_maria, doc_2_virat, doc_3_empty):\n",
    "    record_maria = doc_1_maria.parse()\n",
    "    assert record_maria['patient_name'] == 'Marta Sharapova'\n",
    "    assert record_maria['patient_address'] == '9 tennis court, new Russia, DC'\n",
    "    assert record_maria['medicines'] == 'Prednisone 20 mg\\nLialda 2.4 gram'\n",
    "    assert record_maria['directions'] == 'Prednisone, Taper 5 mg every 3 days,\\nFinish in 2.5 weeks -\\nLialda - take 2 pill everyday for 1 month'\n",
    "    assert record_maria['refills'] == '3'\n",
    "\n",
    "    record_virat = doc_2_virat.parse()\n",
    "    assert record_virat == {\n",
    "        'patient_name': 'Virat Kohli',\n",
    "        'patient_address': '2 cricket blvd, New Delhi',\n",
    "        'medicines': 'Omeprazole 40 mg',\n",
    "        'directions': 'Use two tablets daily for three months',\n",
    "        'refills': '3'\n",
    "    }\n",
    "\n",
    "    record_empty = doc_3_empty.parse()\n",
    "    assert record_empty == {\n",
    "        'patient_name': None,\n",
    "        'patient_address': None,\n",
    "        'medicines': None,\n",
    "        'directions': None,\n",
    "        'refills': None\n",
    "    }\n",
    " "
   ]
  },
  {
   "cell_type": "code",
   "execution_count": 115,
   "id": "6bbeb850",
   "metadata": {},
   "outputs": [
    {
     "name": "stdout",
     "output_type": "stream",
     "text": [
      "\u001b[32m.\u001b[0m\u001b[32m.\u001b[0m\u001b[32m.\u001b[0m\u001b[32m.\u001b[0m\u001b[32m.\u001b[0m\u001b[32m.\u001b[0m\u001b[32m.\u001b[0m\u001b[32m                                                                                      [100%]\u001b[0m\n",
      "\u001b[32m\u001b[32m\u001b[1m7 passed\u001b[0m\u001b[32m in 0.16s\u001b[0m\u001b[0m\n"
     ]
    },
    {
     "data": {
      "text/plain": [
       "<ExitCode.OK: 0>"
      ]
     },
     "execution_count": 115,
     "metadata": {},
     "output_type": "execute_result"
    }
   ],
   "source": [
    "ipytest.run()"
   ]
  }
 ],
 "metadata": {
  "kernelspec": {
   "display_name": "Python 3 (ipykernel)",
   "language": "python",
   "name": "python3"
  },
  "language_info": {
   "codemirror_mode": {
    "name": "ipython",
    "version": 3
   },
   "file_extension": ".py",
   "mimetype": "text/x-python",
   "name": "python",
   "nbconvert_exporter": "python",
   "pygments_lexer": "ipython3",
   "version": "3.8.10"
  }
 },
 "nbformat": 4,
 "nbformat_minor": 5
}
